{
 "cells": [
  {
   "cell_type": "code",
   "execution_count": 7,
   "metadata": {
    "scrolled": true
   },
   "outputs": [
    {
     "name": "stdout",
     "output_type": "stream",
     "text": [
      "Requirement already satisfied: voila in c:\\users\\gunho\\anaconda3\\lib\\site-packages (0.3.5)\n",
      "Requirement already satisfied: jupyterlab-server<3,>=2.3.0 in c:\\users\\gunho\\anaconda3\\lib\\site-packages (from voila) (2.14.0)\n",
      "Requirement already satisfied: websockets>=9.0 in c:\\users\\gunho\\anaconda3\\lib\\site-packages (from voila) (10.3)\n",
      "Requirement already satisfied: nbconvert<7,>=6.4.5 in c:\\users\\gunho\\anaconda3\\lib\\site-packages (from voila) (6.5.0)\n",
      "Requirement already satisfied: nbclient<0.6,>=0.4.0 in c:\\users\\gunho\\anaconda3\\lib\\site-packages (from voila) (0.5.1)\n",
      "Requirement already satisfied: jupyter-client<8,>=6.1.3 in c:\\users\\gunho\\anaconda3\\lib\\site-packages (from voila) (6.1.7)\n",
      "Requirement already satisfied: jupyter-server<2.0.0,>=0.3.0 in c:\\users\\gunho\\anaconda3\\lib\\site-packages (from voila) (1.17.0)\n",
      "Requirement already satisfied: traitlets<6,>=5.0.3 in c:\\users\\gunho\\anaconda3\\lib\\site-packages (from voila) (5.0.5)\n",
      "Requirement already satisfied: babel in c:\\users\\gunho\\anaconda3\\lib\\site-packages (from jupyterlab-server<3,>=2.3.0->voila) (2.9.1)\n",
      "Requirement already satisfied: jsonschema>=3.0.1 in c:\\users\\gunho\\anaconda3\\lib\\site-packages (from jupyterlab-server<3,>=2.3.0->voila) (3.2.0)\n",
      "Requirement already satisfied: jinja2>=3.0.3 in c:\\users\\gunho\\anaconda3\\lib\\site-packages (from jupyterlab-server<3,>=2.3.0->voila) (3.1.2)\n",
      "Requirement already satisfied: packaging in c:\\users\\gunho\\anaconda3\\lib\\site-packages (from jupyterlab-server<3,>=2.3.0->voila) (21.3)\n",
      "Requirement already satisfied: json5 in c:\\users\\gunho\\anaconda3\\lib\\site-packages (from jupyterlab-server<3,>=2.3.0->voila) (0.9.5)\n",
      "Requirement already satisfied: importlib-metadata>=3.6; python_version < \"3.10\" in c:\\users\\gunho\\anaconda3\\lib\\site-packages (from jupyterlab-server<3,>=2.3.0->voila) (4.8.2)\n",
      "Requirement already satisfied: requests in c:\\users\\gunho\\anaconda3\\lib\\site-packages (from jupyterlab-server<3,>=2.3.0->voila) (2.26.0)\n",
      "Requirement already satisfied: jupyterlab-pygments in c:\\users\\gunho\\anaconda3\\lib\\site-packages (from nbconvert<7,>=6.4.5->voila) (0.1.2)\n",
      "Requirement already satisfied: MarkupSafe>=2.0 in c:\\users\\gunho\\anaconda3\\lib\\site-packages (from nbconvert<7,>=6.4.5->voila) (2.0.1)\n",
      "Requirement already satisfied: tinycss2 in c:\\users\\gunho\\anaconda3\\lib\\site-packages (from nbconvert<7,>=6.4.5->voila) (1.1.1)\n",
      "Requirement already satisfied: jupyter-core>=4.7 in c:\\users\\gunho\\anaconda3\\lib\\site-packages (from nbconvert<7,>=6.4.5->voila) (4.10.0)\n",
      "Requirement already satisfied: mistune<2,>=0.8.1 in c:\\users\\gunho\\anaconda3\\lib\\site-packages (from nbconvert<7,>=6.4.5->voila) (0.8.4)\n",
      "Requirement already satisfied: pandocfilters>=1.4.1 in c:\\users\\gunho\\anaconda3\\lib\\site-packages (from nbconvert<7,>=6.4.5->voila) (1.4.3)\n",
      "Requirement already satisfied: pygments>=2.4.1 in c:\\users\\gunho\\anaconda3\\lib\\site-packages (from nbconvert<7,>=6.4.5->voila) (2.10.0)\n",
      "Requirement already satisfied: defusedxml in c:\\users\\gunho\\anaconda3\\lib\\site-packages (from nbconvert<7,>=6.4.5->voila) (0.7.1)\n",
      "Requirement already satisfied: entrypoints>=0.2.2 in c:\\users\\gunho\\anaconda3\\lib\\site-packages (from nbconvert<7,>=6.4.5->voila) (0.3)\n",
      "Collecting nbformat>=5.1\n",
      "  Downloading nbformat-5.4.0-py3-none-any.whl (73 kB)\n",
      "Requirement already satisfied: bleach in c:\\users\\gunho\\anaconda3\\lib\\site-packages (from nbconvert<7,>=6.4.5->voila) (3.2.1)\n",
      "Requirement already satisfied: beautifulsoup4 in c:\\users\\gunho\\anaconda3\\lib\\site-packages (from nbconvert<7,>=6.4.5->voila) (4.9.3)\n",
      "Requirement already satisfied: async-generator in c:\\users\\gunho\\anaconda3\\lib\\site-packages (from nbclient<0.6,>=0.4.0->voila) (1.10)\n",
      "Requirement already satisfied: nest-asyncio in c:\\users\\gunho\\anaconda3\\lib\\site-packages (from nbclient<0.6,>=0.4.0->voila) (1.4.2)\n",
      "Requirement already satisfied: pyzmq>=13 in c:\\users\\gunho\\anaconda3\\lib\\site-packages (from jupyter-client<8,>=6.1.3->voila) (19.0.2)\n",
      "Requirement already satisfied: python-dateutil>=2.1 in c:\\users\\gunho\\anaconda3\\lib\\site-packages (from jupyter-client<8,>=6.1.3->voila) (2.8.2)\n",
      "Requirement already satisfied: tornado>=4.1 in c:\\users\\gunho\\anaconda3\\lib\\site-packages (from jupyter-client<8,>=6.1.3->voila) (6.1)\n",
      "Requirement already satisfied: terminado>=0.8.3 in c:\\users\\gunho\\anaconda3\\lib\\site-packages (from jupyter-server<2.0.0,>=0.3.0->voila) (0.9.1)\n",
      "Requirement already satisfied: websocket-client in c:\\users\\gunho\\anaconda3\\lib\\site-packages (from jupyter-server<2.0.0,>=0.3.0->voila) (1.3.2)\n",
      "Requirement already satisfied: anyio<4,>=3.1.0 in c:\\users\\gunho\\anaconda3\\lib\\site-packages (from jupyter-server<2.0.0,>=0.3.0->voila) (3.4.0)\n",
      "Requirement already satisfied: Send2Trash in c:\\users\\gunho\\anaconda3\\lib\\site-packages (from jupyter-server<2.0.0,>=0.3.0->voila) (1.5.0)\n",
      "Requirement already satisfied: argon2-cffi in c:\\users\\gunho\\anaconda3\\lib\\site-packages (from jupyter-server<2.0.0,>=0.3.0->voila) (20.1.0)\n",
      "Requirement already satisfied: prometheus-client in c:\\users\\gunho\\anaconda3\\lib\\site-packages (from jupyter-server<2.0.0,>=0.3.0->voila) (0.12.0)\n",
      "Requirement already satisfied: pywinpty; os_name == \"nt\" in c:\\users\\gunho\\anaconda3\\lib\\site-packages (from jupyter-server<2.0.0,>=0.3.0->voila) (0.5.7)\n",
      "Requirement already satisfied: ipython-genutils in c:\\users\\gunho\\anaconda3\\lib\\site-packages (from traitlets<6,>=5.0.3->voila) (0.2.0)\n",
      "Requirement already satisfied: pytz>=2015.7 in c:\\users\\gunho\\anaconda3\\lib\\site-packages (from babel->jupyterlab-server<3,>=2.3.0->voila) (2021.3)\n",
      "Requirement already satisfied: attrs>=17.4.0 in c:\\users\\gunho\\anaconda3\\lib\\site-packages (from jsonschema>=3.0.1->jupyterlab-server<3,>=2.3.0->voila) (20.3.0)\n",
      "Requirement already satisfied: setuptools in c:\\users\\gunho\\anaconda3\\lib\\site-packages (from jsonschema>=3.0.1->jupyterlab-server<3,>=2.3.0->voila) (50.3.1.post20201107)\n",
      "Requirement already satisfied: pyrsistent>=0.14.0 in c:\\users\\gunho\\anaconda3\\lib\\site-packages (from jsonschema>=3.0.1->jupyterlab-server<3,>=2.3.0->voila) (0.18.0)\n",
      "Requirement already satisfied: six>=1.11.0 in c:\\users\\gunho\\anaconda3\\lib\\site-packages (from jsonschema>=3.0.1->jupyterlab-server<3,>=2.3.0->voila) (1.16.0)\n",
      "Requirement already satisfied: pyparsing!=3.0.5,>=2.0.2 in c:\\users\\gunho\\anaconda3\\lib\\site-packages (from packaging->jupyterlab-server<3,>=2.3.0->voila) (2.4.7)\n",
      "Requirement already satisfied: zipp>=0.5 in c:\\users\\gunho\\anaconda3\\lib\\site-packages (from importlib-metadata>=3.6; python_version < \"3.10\"->jupyterlab-server<3,>=2.3.0->voila) (3.6.0)\n",
      "Requirement already satisfied: certifi>=2017.4.17 in c:\\users\\gunho\\anaconda3\\lib\\site-packages (from requests->jupyterlab-server<3,>=2.3.0->voila) (2020.12.5)\n",
      "Requirement already satisfied: charset-normalizer~=2.0.0; python_version >= \"3\" in c:\\users\\gunho\\anaconda3\\lib\\site-packages (from requests->jupyterlab-server<3,>=2.3.0->voila) (2.0.9)\n",
      "Requirement already satisfied: idna<4,>=2.5; python_version >= \"3\" in c:\\users\\gunho\\anaconda3\\lib\\site-packages (from requests->jupyterlab-server<3,>=2.3.0->voila) (2.10)\n",
      "Requirement already satisfied: urllib3<1.27,>=1.21.1 in c:\\users\\gunho\\anaconda3\\lib\\site-packages (from requests->jupyterlab-server<3,>=2.3.0->voila) (1.26.7)\n",
      "Requirement already satisfied: webencodings>=0.4 in c:\\users\\gunho\\anaconda3\\lib\\site-packages (from tinycss2->nbconvert<7,>=6.4.5->voila) (0.5.1)\n",
      "Note: you may need to restart the kernel to use updated packages.Requirement already satisfied: pywin32>=1.0; sys_platform == \"win32\" and platform_python_implementation != \"PyPy\" in c:\\users\\gunho\\anaconda3\\lib\\site-packages (from jupyter-core>=4.7->nbconvert<7,>=6.4.5->voila) (227)\n",
      "Collecting fastjsonschema\n",
      "\n"
     ]
    },
    {
     "name": "stderr",
     "output_type": "stream",
     "text": [
      "ERROR: After October 2020 you may experience errors when installing or updating packages. This is because pip will change the way that it resolves dependency conflicts.\n",
      "\n",
      "We recommend you use --use-feature=2020-resolver to test your packages with the new resolver before it becomes the default.\n",
      "\n",
      "nbformat 5.4.0 requires traitlets>=5.1, but you'll have traitlets 5.0.5 which is incompatible.\n",
      "jupyterlab 2.2.6 requires jupyterlab_server<2.0,>=1.1.5, but you'll have jupyterlab-server 2.14.0 which is incompatible.\n",
      "jupyter-server 1.17.0 requires jupyter-client>=6.1.12, but you'll have jupyter-client 6.1.7 which is incompatible.\n",
      "jupyter-server 1.17.0 requires traitlets>=5.1, but you'll have traitlets 5.0.5 which is incompatible.\n"
     ]
    },
    {
     "name": "stdout",
     "output_type": "stream",
     "text": [
      "  Downloading fastjsonschema-2.15.3-py3-none-any.whl (22 kB)\n",
      "Requirement already satisfied: soupsieve>1.2; python_version >= \"3.0\" in c:\\users\\gunho\\anaconda3\\lib\\site-packages (from beautifulsoup4->nbconvert<7,>=6.4.5->voila) (2.0.1)\n",
      "Requirement already satisfied: sniffio>=1.1 in c:\\users\\gunho\\anaconda3\\lib\\site-packages (from anyio<4,>=3.1.0->jupyter-server<2.0.0,>=0.3.0->voila) (1.2.0)\n",
      "Requirement already satisfied: cffi>=1.0.0 in c:\\users\\gunho\\anaconda3\\lib\\site-packages (from argon2-cffi->jupyter-server<2.0.0,>=0.3.0->voila) (1.15.0)\n",
      "Requirement already satisfied: pycparser in c:\\users\\gunho\\anaconda3\\lib\\site-packages (from cffi>=1.0.0->argon2-cffi->jupyter-server<2.0.0,>=0.3.0->voila) (2.21)\n",
      "Installing collected packages: fastjsonschema, nbformat\n",
      "  Attempting uninstall: nbformat\n",
      "    Found existing installation: nbformat 5.0.8\n",
      "    Uninstalling nbformat-5.0.8:\n",
      "      Successfully uninstalled nbformat-5.0.8\n",
      "Successfully installed fastjsonschema-2.15.3 nbformat-5.4.0\n"
     ]
    }
   ],
   "source": [
    "pip install voila"
   ]
  },
  {
   "cell_type": "code",
   "execution_count": 5,
   "metadata": {},
   "outputs": [],
   "source": [
    "import voila"
   ]
  },
  {
   "cell_type": "code",
   "execution_count": 2,
   "metadata": {},
   "outputs": [],
   "source": [
    "import numpy as np\n",
    "import matplotlib.pyplot as plt\n",
    "from ipywidgets import interactive\n",
    "%matplotlib inline"
   ]
  },
  {
   "cell_type": "code",
   "execution_count": 3,
   "metadata": {},
   "outputs": [
    {
     "data": {
      "application/vnd.jupyter.widget-view+json": {
       "model_id": "189a22f523b74fd390d9791f5bd6643f",
       "version_major": 2,
       "version_minor": 0
      },
      "text/plain": [
       "interactive(children=(FloatSlider(value=-1.0, description='a', max=0.0, min=-1.0), FloatSlider(value=0.55, des…"
      ]
     },
     "metadata": {},
     "output_type": "display_data"
    }
   ],
   "source": [
    "def plot_func(a, f):\n",
    "    plt.figure(2)\n",
    "    x = np.linspace(0, 2*np.pi, num=1000)\n",
    "    y = a*np.sin(1/f*x)\n",
    "    plt.plot(x,y)\n",
    "    plt.ylim(-1.1, 1.1)\n",
    "    plt.title('a sin(f)')\n",
    "    plt.show()\n",
    "\n",
    "interactive_plot = interactive(plot_func, a=(-1,0,0.1), f=(0.1, 1))\n",
    "output = interactive_plot.children[-1]\n",
    "output.layout.height = '300px'\n",
    "interactive_plot"
   ]
  },
  {
   "cell_type": "code",
   "execution_count": 6,
   "metadata": {},
   "outputs": [
    {
     "ename": "SyntaxError",
     "evalue": "invalid syntax (<ipython-input-6-b9f8528b5b4b>, line 1)",
     "output_type": "error",
     "traceback": [
      "\u001b[1;36m  File \u001b[1;32m\"<ipython-input-6-b9f8528b5b4b>\"\u001b[1;36m, line \u001b[1;32m1\u001b[0m\n\u001b[1;33m    voila app.ipynb\u001b[0m\n\u001b[1;37m          ^\u001b[0m\n\u001b[1;31mSyntaxError\u001b[0m\u001b[1;31m:\u001b[0m invalid syntax\n"
     ]
    }
   ],
   "source": [
    "voila app.ipynb"
   ]
  },
  {
   "cell_type": "code",
   "execution_count": null,
   "metadata": {},
   "outputs": [],
   "source": []
  },
  {
   "cell_type": "code",
   "execution_count": null,
   "metadata": {},
   "outputs": [],
   "source": []
  }
 ],
 "metadata": {
  "kernelspec": {
   "display_name": "Python 3",
   "language": "python",
   "name": "python3"
  },
  "language_info": {
   "codemirror_mode": {
    "name": "ipython",
    "version": 3
   },
   "file_extension": ".py",
   "mimetype": "text/x-python",
   "name": "python",
   "nbconvert_exporter": "python",
   "pygments_lexer": "ipython3",
   "version": "3.8.5"
  },
  "toc": {
   "base_numbering": 1,
   "nav_menu": {},
   "number_sections": true,
   "sideBar": true,
   "skip_h1_title": false,
   "title_cell": "Table of Contents",
   "title_sidebar": "Contents",
   "toc_cell": false,
   "toc_position": {},
   "toc_section_display": true,
   "toc_window_display": false
  },
  "varInspector": {
   "cols": {
    "lenName": 16,
    "lenType": 16,
    "lenVar": 40
   },
   "kernels_config": {
    "python": {
     "delete_cmd_postfix": "",
     "delete_cmd_prefix": "del ",
     "library": "var_list.py",
     "varRefreshCmd": "print(var_dic_list())"
    },
    "r": {
     "delete_cmd_postfix": ") ",
     "delete_cmd_prefix": "rm(",
     "library": "var_list.r",
     "varRefreshCmd": "cat(var_dic_list()) "
    }
   },
   "types_to_exclude": [
    "module",
    "function",
    "builtin_function_or_method",
    "instance",
    "_Feature"
   ],
   "window_display": false
  }
 },
 "nbformat": 4,
 "nbformat_minor": 4
}
